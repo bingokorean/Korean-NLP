{
 "cells": [
  {
   "cell_type": "code",
   "execution_count": 1,
   "metadata": {},
   "outputs": [
    {
     "name": "stdout",
     "output_type": "stream",
     "text": [
      "0.0.46\n"
     ]
    }
   ],
   "source": [
    "import sys\n",
    "sys.path.append('../')\n",
    "\n",
    "import soynlp\n",
    "print(soynlp.__version__)"
   ]
  },
  {
   "cell_type": "markdown",
   "metadata": {},
   "source": [
    "soynlp 0.0.46+ 에서는 soynlp.noun.LRNounExtractor 를 보완한 LRNounExtractor_v2 를 제공합니다. \n",
    "\n",
    "version 2 에서는 (1) 명사 추출의 정확성을 높였으며, (2) 합성명사의 인식이 가능합니다. 또한 (3) 명사의 빈도를 정확히 계산합니다.\n",
    "\n",
    "사용법은 version 1 과 비슷합니다. train_extract 함수를 통하여 명사 점수를 계산할 수 있습니다. verbose mode 일 경우에는 학습 과정의 진행 상황이 출력됩니다.\n",
    "\n",
    "더 자세한 version 1 과 2 의 차이점은 [lovit.github.io/nlp/2018/05/08/noun_extraction_ver2](https://lovit.github.io/nlp/2018/05/08/noun_extraction_ver2/) 에 적어뒀습니다."
   ]
  },
  {
   "cell_type": "code",
   "execution_count": 2,
   "metadata": {
    "collapsed": true
   },
   "outputs": [],
   "source": [
    "from soynlp.utils import DoublespaceLineCorpus\n",
    "from soynlp.noun import LRNounExtractor_v2\n",
    "\n",
    "corpus_path = '2016-10-20-news'\n",
    "sents = DoublespaceLineCorpus(corpus_path, iter_sent=True)"
   ]
  },
  {
   "cell_type": "markdown",
   "metadata": {},
   "source": [
    "train(), extract() 를 따로 진행할 수 있습니다."
   ]
  },
  {
   "cell_type": "code",
   "execution_count": 3,
   "metadata": {},
   "outputs": [
    {
     "name": "stdout",
     "output_type": "stream",
     "text": [
      "[Noun Extractor] use default predictors\n",
      "[Noun Extractor] num features: pos=1260, neg=1185, common=12\n",
      "[Noun Extractor] counting eojeols\n",
      "[Noun Extractor] complete eojeol counter -> lr graph\n",
      "[Noun Extractor] has been trained.\n",
      "[Noun Extractor] batch prediction was completed for 146445 words\n",
      "[Noun Extractor] checked compounds. discovered 35044 compounds\n",
      "[Noun Extractor] 86133 nouns (35044 compounds) with min count=1\n",
      "[Noun Extractor] 71.69 % eojeols are covered\n",
      "[Noun Extractor] flushing ... done\n",
      "CPU times: user 24.7 s, sys: 460 ms, total: 25.2 s\n",
      "Wall time: 25 s\n"
     ]
    }
   ],
   "source": [
    "%%time\n",
    "noun_extractor = LRNounExtractor_v2(verbose=True)\n",
    "noun_extractor.train(sents)\n",
    "nouns = noun_extractor.extract()"
   ]
  },
  {
   "cell_type": "markdown",
   "metadata": {},
   "source": [
    "이 과정은 한 번에 일어나는 경우가 많기 때문에 train_extract() 함수를 이용해도 됩니다.\n",
    "\n",
    "version 2 에서는 soynlp.utils 의 EojeolCounter 와 LRGraph 를 이용합니다. 명사가 포함되었다고 인식된 어절의 빈도수 비율이 출력됩니다. 71.69 % 의 어절에 추출된 명사가 포함되어 있습니다. 총 86,133 개의 명사가 추출되었으며, 이 중 35,044 개는 복합명사입니다.\n",
    "\n",
    "복합 명사의 경우에는 min_count 가 1 일 경우에도 탐지가 될 수 있도록 하였습니다. min_count 와 minimum_noun_score 는 extract, train_extract 함수의 argument 로 조절할 수 있습니다."
   ]
  },
  {
   "cell_type": "code",
   "execution_count": 4,
   "metadata": {},
   "outputs": [
    {
     "name": "stdout",
     "output_type": "stream",
     "text": [
      "[Noun Extractor] counting eojeols\n",
      "[Noun Extractor] complete eojeol counter -> lr graph\n",
      "[Noun Extractor] has been trained.\n",
      "[Noun Extractor] batch prediction was completed for 146445 words\n",
      "[Noun Extractor] checked compounds. discovered 35044 compounds\n",
      "[Noun Extractor] 86133 nouns (35044 compounds) with min count=1\n",
      "[Noun Extractor] 71.69 % eojeols are covered\n",
      "[Noun Extractor] flushing ... done\n",
      "CPU times: user 25.7 s, sys: 284 ms, total: 25.9 s\n",
      "Wall time: 25.7 s\n"
     ]
    }
   ],
   "source": [
    "%%time\n",
    "nouns = noun_extractor.train_extract(sents)\n",
    "# nouns = noun_extractor.train_extract(sents, min_count=1, minimum_noun_score=0.3)"
   ]
  },
  {
   "cell_type": "markdown",
   "metadata": {},
   "source": [
    "nouns 는 {str: NounScore} 형식의 dict 입니다. 추출된 명사 단어에 대한 빈도수와 명사 점수가 namedtuple 인 NounScore 로 저장되어 있습니다.\n",
    "\n",
    "version 1 의 명사 추출기에서는 '뉴스'라는 left-side substring 의 빈도수를 명사의 빈도수로 이용하였습니다만, version 2 에서는 어절에서 '뉴스'가 실제로 명사로 이용된 경우만 카운팅 됩니다. '뉴스방송'과 같은 복합명사의 빈도수는 '뉴스'에 포함되지 않습니다."
   ]
  },
  {
   "cell_type": "code",
   "execution_count": 5,
   "metadata": {},
   "outputs": [
    {
     "data": {
      "text/plain": [
       "NounScore(frequency=4319, score=1.0)"
      ]
     },
     "execution_count": 5,
     "metadata": {},
     "output_type": "execute_result"
    }
   ],
   "source": [
    "nouns['뉴스']"
   ]
  },
  {
   "cell_type": "markdown",
   "metadata": {},
   "source": [
    "LRNounExtractor_v2._compounds_components 에는 복합 명사의 components 가 저장되어 있습니다. _compounds_components 는 {str:tuple of str} 형식입니다."
   ]
  },
  {
   "cell_type": "code",
   "execution_count": 8,
   "metadata": {},
   "outputs": [
    {
     "name": "stdout",
     "output_type": "stream",
     "text": [
      "두바이월 None\n",
      "두바이월드 None\n",
      "두바이월드센터 ('두바이', '월드', '센터')\n",
      "연합뉴스 None\n",
      "연합뉴스자료사 None\n",
      "연합뉴스자료사진 ('연합뉴스', '자료', '사진')\n",
      "군사기술 ('군사', '기술')\n"
     ]
    }
   ],
   "source": [
    "for word in ['두바이월', '두바이월드', '두바이월드센터', '연합뉴스', '연합뉴스자료사', '연합뉴스자료사진', '군사기술']:\n",
    "    print(word, noun_extractor._compounds_components.get(word, None))"
   ]
  },
  {
   "cell_type": "code",
   "execution_count": 6,
   "metadata": {},
   "outputs": [
    {
     "data": {
      "text/plain": [
       "[('잠수함발사탄도미사일', ('잠수함', '발사', '탄도미사일')),\n",
       " ('미사일대응능력위원회', ('미사일', '대응', '능력', '위원회')),\n",
       " ('글로벌녹색성장연구소', ('글로벌', '녹색성장', '연구소')),\n",
       " ('시카고옵션거래소', ('시카고', '옵션', '거래소')),\n",
       " ('대한민국특수임무유공', ('대한민국', '특수', '임무', '유공')),\n",
       " ('철도산업발전소위원회', ('철도', '산업발전', '소위원회')),\n",
       " ('포괄적핵실험금지조약', ('포괄적', '핵실험', '금지', '조약')),\n",
       " ('유엔북한인권사무소', ('유엔', '북한인권', '사무소')),\n",
       " ('교육문화위원장', ('교육', '문화', '위원장')),\n",
       " ('중앙투자심사위원회', ('중앙투자심사', '위원회'))]"
      ]
     },
     "execution_count": 6,
     "metadata": {},
     "output_type": "execute_result"
    }
   ],
   "source": [
    "list(noun_extractor._compounds_components.items())[:10]"
   ]
  },
  {
   "cell_type": "markdown",
   "metadata": {},
   "source": [
    "복합 명사도 nouns 에 포함되어 출력됩니다."
   ]
  },
  {
   "cell_type": "code",
   "execution_count": 9,
   "metadata": {},
   "outputs": [
    {
     "data": {
      "text/plain": [
       "NounScore(frequency=7, score=1.0)"
      ]
     },
     "execution_count": 9,
     "metadata": {},
     "output_type": "execute_result"
    }
   ],
   "source": [
    "nouns['두바이월드센터']"
   ]
  },
  {
   "cell_type": "markdown",
   "metadata": {},
   "source": [
    "LRNounExtractor_v2.decompose_compound 는 입력된 str 가 복합 명사일 경우, 이를 단일 명사의 tuple 로 분해합니다."
   ]
  },
  {
   "cell_type": "code",
   "execution_count": 8,
   "metadata": {},
   "outputs": [
    {
     "data": {
      "text/plain": [
       "('두바이', '월드', '센터', '시카고', '옵션', '거래소')"
      ]
     },
     "execution_count": 8,
     "metadata": {},
     "output_type": "execute_result"
    }
   ],
   "source": [
    "noun_extractor.decompose_compound('두바이월드센터시카고옵션거래소')"
   ]
  },
  {
   "cell_type": "markdown",
   "metadata": {},
   "source": [
    "복합명사가 아닌 경우에는 길이가 1 인 tuple 로 출력됩니다. "
   ]
  },
  {
   "cell_type": "code",
   "execution_count": 7,
   "metadata": {},
   "outputs": [
    {
     "data": {
      "text/plain": [
       "('두바이월드센터시카고옵션거래소라라라라라',)"
      ]
     },
     "execution_count": 7,
     "metadata": {},
     "output_type": "execute_result"
    }
   ],
   "source": [
    "noun_extractor.decompose_compound('두바이월드센터시카고옵션거래소라라라라라')"
   ]
  },
  {
   "cell_type": "markdown",
   "metadata": {},
   "source": [
    "LRNounExtractor_v2 는 soynlp.utils 의 LRGraph 를 이용합니다. 데이터의 L-R 구조를 살펴볼 수 있습니다."
   ]
  },
  {
   "cell_type": "code",
   "execution_count": 9,
   "metadata": {},
   "outputs": [
    {
     "data": {
      "text/plain": [
       "[('', 123),\n",
       " ('의', 47),\n",
       " ('는', 40),\n",
       " ('와', 18),\n",
       " ('가', 18),\n",
       " ('에', 7),\n",
       " ('에게', 6),\n",
       " ('까지', 2),\n",
       " ('랑', 2),\n",
       " ('부터', 1)]"
      ]
     },
     "execution_count": 9,
     "metadata": {},
     "output_type": "execute_result"
    }
   ],
   "source": [
    "noun_extractor.lrgraph.get_r('아이오아이')"
   ]
  },
  {
   "cell_type": "markdown",
   "metadata": {},
   "source": [
    "topk=10 으로 설정되어 있습니다. topk < 0 으로 설정하면 모든 R set 이 출력됩니다."
   ]
  },
  {
   "cell_type": "code",
   "execution_count": 11,
   "metadata": {},
   "outputs": [
    {
     "data": {
      "text/plain": [
       "[('', 123),\n",
       " ('의', 47),\n",
       " ('는', 40),\n",
       " ('와', 18),\n",
       " ('가', 18),\n",
       " ('에', 7),\n",
       " ('에게', 6),\n",
       " ('까지', 2),\n",
       " ('랑', 2),\n",
       " ('부터', 1),\n",
       " ('도', 1),\n",
       " ('와의', 1),\n",
       " ('와는', 1),\n",
       " ('로', 1),\n",
       " ('를', 1),\n",
       " ('에서', 1)]"
      ]
     },
     "execution_count": 11,
     "metadata": {},
     "output_type": "execute_result"
    }
   ],
   "source": [
    "noun_extractor.lrgraph.get_r('아이오아이', topk=-1)"
   ]
  },
  {
   "cell_type": "markdown",
   "metadata": {},
   "source": [
    "L-R 구조의 L parts 도 확인할 수 있습니다. 이 역시 topk=10 으로 기본값이 설정되어 있습니다."
   ]
  },
  {
   "cell_type": "code",
   "execution_count": 10,
   "metadata": {},
   "outputs": [
    {
     "data": {
      "text/plain": [
       "[('있', 125),\n",
       " ('없', 76),\n",
       " ('만들', 37),\n",
       " ('늘', 32),\n",
       " ('맺', 29),\n",
       " ('열', 28),\n",
       " ('들', 19),\n",
       " ('입', 16),\n",
       " ('되', 14),\n",
       " ('줄', 14)]"
      ]
     },
     "execution_count": 10,
     "metadata": {},
     "output_type": "execute_result"
    }
   ],
   "source": [
    "noun_extractor.lrgraph.get_l('었다고')"
   ]
  }
 ],
 "metadata": {
  "kernelspec": {
   "display_name": "Python 3",
   "language": "python",
   "name": "python3"
  },
  "language_info": {
   "codemirror_mode": {
    "name": "ipython",
    "version": 3
   },
   "file_extension": ".py",
   "mimetype": "text/x-python",
   "name": "python",
   "nbconvert_exporter": "python",
   "pygments_lexer": "ipython3",
   "version": "3.6.2"
  }
 },
 "nbformat": 4,
 "nbformat_minor": 2
}
